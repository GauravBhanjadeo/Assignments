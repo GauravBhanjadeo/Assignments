{
 "cells": [
  {
   "cell_type": "code",
   "execution_count": null,
   "id": "66ab863f",
   "metadata": {},
   "outputs": [],
   "source": [
    "1. What does RGBA stand for?\n",
    " \n",
    " RGBA is a four-channel format containing data for Red, Green, Blue, and an Alpha value. Where Alpha Represents the Opacity"
   ]
  },
  {
   "cell_type": "code",
   "execution_count": null,
   "id": "2218fd3f",
   "metadata": {},
   "outputs": [],
   "source": [
    "2. From the Pillow module, how do you get the RGBA value of any images?\n",
    "\n",
    "ImageColor.getcolor() gives rgba value of any image"
   ]
  },
  {
   "cell_type": "code",
   "execution_count": null,
   "id": "ea6f9f6f",
   "metadata": {},
   "outputs": [],
   "source": [
    "3. What is a box tuple, and how does it work?\n",
    "\n",
    "A box tuple is a tuple value of four integers: the left-edge x-coordinate, the top-edge y-coordinate,the width, and the height, respectively."
   ]
  },
  {
   "cell_type": "code",
   "execution_count": null,
   "id": "a78b0d0d",
   "metadata": {},
   "outputs": [],
   "source": [
    "4. Use your image and load in notebook then, How can you find out the width and height of an Image object?\n",
    "\n",
    "from PIL import Image\n",
    "pic = Image.open('Pic_name.jpg')\n",
    "print(f'Width, Height -> {pic.size}')"
   ]
  },
  {
   "cell_type": "code",
   "execution_count": null,
   "id": "a773ff7a",
   "metadata": {},
   "outputs": [],
   "source": [
    "5. What method would you call to get Image object for a 100×100 image, excluding the lower-left quarter of it?\n",
    "\n",
    "from PIL import Image\n",
    "img = Image.open('Pic.jpg')\n",
    "new_img = img.crop((0,50,50,50))"
   ]
  },
  {
   "cell_type": "code",
   "execution_count": null,
   "id": "0aa27581",
   "metadata": {},
   "outputs": [],
   "source": [
    "6. After making changes to an Image object, how could you save it as an image file?\n",
    "\n",
    "from PIL import Image\n",
    "pic = Image.open('pic.jpg')\n",
    "pic.save('pic2.jpg')"
   ]
  },
  {
   "cell_type": "code",
   "execution_count": null,
   "id": "a413c7d2",
   "metadata": {},
   "outputs": [],
   "source": [
    "7. What module contains Pillow’s shape-drawing code?\n",
    "\n",
    " Pillows ImageDraw module contains Shape drawing methods"
   ]
  },
  {
   "cell_type": "code",
   "execution_count": null,
   "id": "1bc61269",
   "metadata": {},
   "outputs": [],
   "source": [
    "8. Image objects do not have drawing methods. What kind of object does? How do you get this kind of object?\n",
    " \n",
    " ImageDraw objects have shape-drawing methods such as point(), line(), or rectangle().They are returned by passing the Image object to the ImageDraw.Draw() function."
   ]
  },
  {
   "cell_type": "code",
   "execution_count": null,
   "id": "974ffb3a",
   "metadata": {},
   "outputs": [],
   "source": []
  }
 ],
 "metadata": {
  "kernelspec": {
   "display_name": "Python 3 (ipykernel)",
   "language": "python",
   "name": "python3"
  },
  "language_info": {
   "codemirror_mode": {
    "name": "ipython",
    "version": 3
   },
   "file_extension": ".py",
   "mimetype": "text/x-python",
   "name": "python",
   "nbconvert_exporter": "python",
   "pygments_lexer": "ipython3",
   "version": "3.9.7"
  }
 },
 "nbformat": 4,
 "nbformat_minor": 5
}
