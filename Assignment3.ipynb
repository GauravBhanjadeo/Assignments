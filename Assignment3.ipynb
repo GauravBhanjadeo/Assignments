{
 "cells": [
  {
   "cell_type": "code",
   "execution_count": 1,
   "id": "bf187992",
   "metadata": {},
   "outputs": [],
   "source": [
    "#1. Why are functions advantageous to have in your programs?\n",
    "\n",
    "#We don't have to type the same code repeated times for execution of a program.\n",
    "#It shorten the code length.\n",
    "#It also saves times."
   ]
  },
  {
   "cell_type": "code",
   "execution_count": 2,
   "id": "6bc5ede6",
   "metadata": {},
   "outputs": [],
   "source": [
    "#2. When does the code in a function run: when it's specified or when it's called?\n",
    "\n",
    "#When it's called."
   ]
  },
  {
   "cell_type": "code",
   "execution_count": 3,
   "id": "abc7a689",
   "metadata": {},
   "outputs": [],
   "source": [
    "#3. What statement creates a function?\n",
    "\n",
    "#def keyword creates funtion.\n",
    "#Ex.\n",
    "def function_name():\n",
    "    pass"
   ]
  },
  {
   "cell_type": "code",
   "execution_count": 4,
   "id": "fdcbc230",
   "metadata": {},
   "outputs": [],
   "source": [
    "#4. What is the difference between a function and a function call?\n",
    "# A function is a piece of code that does a particular operation. In other hand function call means calling or using that function for our pogram requirment."
   ]
  },
  {
   "cell_type": "code",
   "execution_count": 5,
   "id": "4ecb9e87",
   "metadata": {},
   "outputs": [],
   "source": [
    "#5. How many global scopes are there in a Python program? How many local scopes?\n",
    "\n",
    "#There is one gloabl scope in a Python progam and there can be multiple local scopes ."
   ]
  },
  {
   "cell_type": "code",
   "execution_count": 6,
   "id": "801d0c6f",
   "metadata": {},
   "outputs": [],
   "source": [
    "#6. What happens to variables in a local scope when the function call returns?\n",
    "\n",
    "#It retains it's values untill the function is called again."
   ]
  },
  {
   "cell_type": "code",
   "execution_count": 7,
   "id": "14841975",
   "metadata": {},
   "outputs": [],
   "source": [
    "#7. What is the concept of a return value? Is it possible to have a return value in an expression?\n",
    "\n",
    "#When the function completes it's task it's return value.Yes it is   possible to have a return value in an expression."
   ]
  },
  {
   "cell_type": "code",
   "execution_count": 8,
   "id": "0d65f1a6",
   "metadata": {},
   "outputs": [],
   "source": [
    "#8. If a function does not have a return statement, what is the return value of a call to that function?\n",
    "\n",
    "#None type"
   ]
  },
  {
   "cell_type": "code",
   "execution_count": 9,
   "id": "d58b4db0",
   "metadata": {},
   "outputs": [],
   "source": [
    "#9. How do you make a function variable refer to the global variable?\n",
    "#We have to declare it outside of the function."
   ]
  },
  {
   "cell_type": "code",
   "execution_count": 10,
   "id": "4c6f15a1",
   "metadata": {},
   "outputs": [],
   "source": [
    "#10. What is the data type of None?\n",
    "#None type"
   ]
  },
  {
   "cell_type": "code",
   "execution_count": 12,
   "id": "2a863ff1",
   "metadata": {},
   "outputs": [],
   "source": [
    "#11. What does the sentence import areallyourpetsnamederic do?\n",
    "\n",
    "#It will try to import a module named  areallyourpetsnamederic."
   ]
  },
  {
   "cell_type": "code",
   "execution_count": 14,
   "id": "794df98c",
   "metadata": {},
   "outputs": [],
   "source": [
    "#12. If you had a bacon() feature in a spam module, what would you call it after importing spam?\n",
    "\n",
    "#spam.bacon()"
   ]
  },
  {
   "cell_type": "code",
   "execution_count": 15,
   "id": "af088c8c",
   "metadata": {},
   "outputs": [],
   "source": [
    "#13. What can you do to save a programme from crashing if it encounters an error?\n",
    "\n",
    "#By using Exception handling."
   ]
  },
  {
   "cell_type": "raw",
   "id": "bcacb019",
   "metadata": {},
   "source": [
    "#14. What is the purpose of the try clause? What is the purpose of the except clause?\n",
    "\n",
    "#Try clause will use the code to find errors in the code.Excepy clause will handle the error."
   ]
  }
 ],
 "metadata": {
  "kernelspec": {
   "display_name": "Python 3 (ipykernel)",
   "language": "python",
   "name": "python3"
  },
  "language_info": {
   "codemirror_mode": {
    "name": "ipython",
    "version": 3
   },
   "file_extension": ".py",
   "mimetype": "text/x-python",
   "name": "python",
   "nbconvert_exporter": "python",
   "pygments_lexer": "ipython3",
   "version": "3.9.7"
  }
 },
 "nbformat": 4,
 "nbformat_minor": 5
}
