{
 "cells": [
  {
   "cell_type": "code",
   "execution_count": 1,
   "id": "f551a17a",
   "metadata": {},
   "outputs": [],
   "source": [
    "#1. In the below elements which of them are values or an expression? eg:- values can be integer or string and expressions will be mathematical operators. \n",
    "\n",
    "#Values are 'Hello',-87.8,6\n",
    "#Expressions are -,/,+"
   ]
  },
  {
   "cell_type": "code",
   "execution_count": 2,
   "id": "abd0522f",
   "metadata": {},
   "outputs": [],
   "source": [
    "#2. What is the difference between string and variable?\n",
    "\n",
    "#variables are kind of  entities which helps you out to hold your data in main memory(RAM) and Strings are usually words enclosed with \"\" or ''."
   ]
  },
  {
   "cell_type": "code",
   "execution_count": 3,
   "id": "5aab8fb3",
   "metadata": {},
   "outputs": [],
   "source": [
    "#3. Describe three different data types.\n",
    "\n",
    "#int(integer)data type.Ex.a=10,b=5\n",
    "#str(string)data type.Ex.a=\"GAURAV\",b='BUNTY'\n",
    "#float data type. Ex.a=12.5,b=45.6"
   ]
  },
  {
   "cell_type": "code",
   "execution_count": 4,
   "id": "37d635d4",
   "metadata": {},
   "outputs": [],
   "source": [
    "#4. What is an expression made up of? What do all expressions do?\n",
    "\n",
    "#Expression is a representation of value.It is a  combination of operators and operands.They arey used to produce a value."
   ]
  },
  {
   "cell_type": "code",
   "execution_count": 5,
   "id": "238428e4",
   "metadata": {},
   "outputs": [],
   "source": [
    "#5. This assignment statements, like spam = 10. What is the difference between an expression and a statement?\n",
    "\n",
    "#Statements can be defined as the commands or instructions we give to perform certain assignment in a pogram to produce our desired result.In other hand expressions are used to produce  certain values .An expression can be made of several expressions."
   ]
  },
  {
   "cell_type": "code",
   "execution_count": 8,
   "id": "c47fef17",
   "metadata": {},
   "outputs": [
    {
     "data": {
      "text/plain": [
       "23"
      ]
     },
     "execution_count": 8,
     "metadata": {},
     "output_type": "execute_result"
    }
   ],
   "source": [
    "#6. After running the following code, what does the variable bacon contain?\n",
    "bacon = 22\n",
    "bacon + 1\n",
    "#the variable bacon contain is 23"
   ]
  },
  {
   "cell_type": "code",
   "execution_count": 10,
   "id": "33919d34",
   "metadata": {},
   "outputs": [
    {
     "data": {
      "text/plain": [
       "'spamspamspam'"
      ]
     },
     "execution_count": 10,
     "metadata": {},
     "output_type": "execute_result"
    }
   ],
   "source": [
    "#7. What should the values of the following two terms be?\n",
    "#'spam'+'spamspam'\n",
    "#'spam*3'\n",
    "'spam'+'spamspam'\n"
   ]
  },
  {
   "cell_type": "code",
   "execution_count": 12,
   "id": "46583686",
   "metadata": {},
   "outputs": [
    {
     "data": {
      "text/plain": [
       "'spamspamspam'"
      ]
     },
     "execution_count": 12,
     "metadata": {},
     "output_type": "execute_result"
    }
   ],
   "source": [
    "'spam'*3"
   ]
  },
  {
   "cell_type": "code",
   "execution_count": 13,
   "id": "3b192953",
   "metadata": {},
   "outputs": [],
   "source": [
    "#8. Why is eggs a valid variable name while 100 is invalid?\n",
    "# A variable can not be a number."
   ]
  },
  {
   "cell_type": "code",
   "execution_count": 14,
   "id": "ec7081e1",
   "metadata": {},
   "outputs": [],
   "source": [
    "#9. What three functions can be used to get the integer, floating-point number, or string version of a value?\n",
    "#int()\n",
    "#float()\n",
    "#str() respectively."
   ]
  },
  {
   "cell_type": "code",
   "execution_count": 15,
   "id": "0c2bcde3",
   "metadata": {},
   "outputs": [
    {
     "data": {
      "text/plain": [
       "'I have eaten99burritos'"
      ]
     },
     "execution_count": 15,
     "metadata": {},
     "output_type": "execute_result"
    }
   ],
   "source": [
    "#10. Why does this expression cause an error? How can you fix it?\n",
    "#'I have eaten'+99+'burritos'\n",
    "\n",
    "\"I have eaten\"+\"99\"+\"burritos\"\n"
   ]
  },
  {
   "cell_type": "code",
   "execution_count": null,
   "id": "6514ef97",
   "metadata": {},
   "outputs": [],
   "source": []
  }
 ],
 "metadata": {
  "kernelspec": {
   "display_name": "Python 3 (ipykernel)",
   "language": "python",
   "name": "python3"
  },
  "language_info": {
   "codemirror_mode": {
    "name": "ipython",
    "version": 3
   },
   "file_extension": ".py",
   "mimetype": "text/x-python",
   "name": "python",
   "nbconvert_exporter": "python",
   "pygments_lexer": "ipython3",
   "version": "3.9.7"
  }
 },
 "nbformat": 4,
 "nbformat_minor": 5
}
